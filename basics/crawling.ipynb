{
  "nbformat": 4,
  "nbformat_minor": 0,
  "metadata": {
    "colab": {
      "name": "crawling.ipynb",
      "version": "0.3.2",
      "provenance": [],
      "collapsed_sections": [],
      "include_colab_link": true
    },
    "kernelspec": {
      "name": "python3",
      "display_name": "Python 3"
    },
    "accelerator": "GPU"
  },
  "cells": [
    {
      "cell_type": "markdown",
      "metadata": {
        "id": "view-in-github",
        "colab_type": "text"
      },
      "source": [
        "<a href=\"https://colab.research.google.com/github/srshin/blog/blob/master/basics/crawling.ipynb\" target=\"_parent\"><img src=\"https://colab.research.google.com/assets/colab-badge.svg\" alt=\"Open In Colab\"/></a>"
      ]
    },
    {
      "metadata": {
        "id": "RkyDgrFBFAHB",
        "colab_type": "text"
      },
      "cell_type": "markdown",
      "source": [
        "# Crawling\n",
        "## BeautifulSoup"
      ]
    },
    {
      "metadata": {
        "id": "J7F96yB-O_hB",
        "colab_type": "text"
      },
      "cell_type": "markdown",
      "source": [
        "##google drive 연결\n",
        "### authentication code 입력 "
      ]
    },
    {
      "metadata": {
        "id": "bnjNTbyaaKPa",
        "colab_type": "text"
      },
      "cell_type": "markdown",
      "source": [
        "아래 코드 필요하지 않을 수도 있음"
      ]
    },
    {
      "metadata": {
        "id": "RE40eoLMHyvW",
        "colab_type": "code",
        "colab": {}
      },
      "cell_type": "code",
      "source": [
        "from google.colab import auth\n",
        "auth.authenticate_user()"
      ],
      "execution_count": 0,
      "outputs": []
    },
    {
      "metadata": {
        "id": "LgxxxLVEausA",
        "colab_type": "text"
      },
      "cell_type": "markdown",
      "source": [
        "### 구글드라이브 마운팅"
      ]
    },
    {
      "metadata": {
        "id": "OpqeV9bpHy-U",
        "colab_type": "code",
        "outputId": "d7f1f9b4-2b0a-4f66-d543-eae7a9875a05",
        "colab": {
          "base_uri": "https://localhost:8080/",
          "height": 128
        }
      },
      "cell_type": "code",
      "source": [
        "from google.colab import drive\n",
        "drive.mount('/content/gdrive')"
      ],
      "execution_count": 2,
      "outputs": [
        {
          "output_type": "stream",
          "text": [
            "Go to this URL in a browser: https://accounts.google.com/o/oauth2/auth?client_id=947318989803-6bn6qk8qdgf4n4g3pfee6491hc0brc4i.apps.googleusercontent.com&redirect_uri=urn%3Aietf%3Awg%3Aoauth%3A2.0%3Aoob&scope=email%20https%3A%2F%2Fwww.googleapis.com%2Fauth%2Fdocs.test%20https%3A%2F%2Fwww.googleapis.com%2Fauth%2Fdrive%20https%3A%2F%2Fwww.googleapis.com%2Fauth%2Fdrive.photos.readonly%20https%3A%2F%2Fwww.googleapis.com%2Fauth%2Fpeopleapi.readonly&response_type=code\n",
            "\n",
            "Enter your authorization code:\n",
            "··········\n",
            "Mounted at /content/gdrive\n"
          ],
          "name": "stdout"
        }
      ]
    },
    {
      "metadata": {
        "id": "zf90rD1fPTYB",
        "colab_type": "text"
      },
      "cell_type": "markdown",
      "source": [
        "## 연결된 directory 확인"
      ]
    },
    {
      "metadata": {
        "id": "L94nzn2LFkyN",
        "colab_type": "code",
        "outputId": "cfbef13c-c197-432e-85b2-41cdd96e730b",
        "colab": {
          "base_uri": "https://localhost:8080/",
          "height": 35
        }
      },
      "cell_type": "code",
      "source": [
        "!pwd"
      ],
      "execution_count": 3,
      "outputs": [
        {
          "output_type": "stream",
          "text": [
            "/content\n"
          ],
          "name": "stdout"
        }
      ]
    },
    {
      "metadata": {
        "id": "ICFJEarqHzdl",
        "colab_type": "code",
        "outputId": "139f44fa-f00f-454c-b2f2-6e699afe5b68",
        "colab": {
          "base_uri": "https://localhost:8080/",
          "height": 35
        }
      },
      "cell_type": "code",
      "source": [
        "!ls "
      ],
      "execution_count": 4,
      "outputs": [
        {
          "output_type": "stream",
          "text": [
            "adc.json  gdrive  sample_data\n"
          ],
          "name": "stdout"
        }
      ]
    },
    {
      "metadata": {
        "id": "I__MCoFVHzjk",
        "colab_type": "code",
        "outputId": "76d2753d-b8e9-498f-bff1-0f4a57ebd499",
        "colab": {
          "base_uri": "https://localhost:8080/",
          "height": 35
        }
      },
      "cell_type": "code",
      "source": [
        "!ls \"gdrive/My Drive/Colab Notebooks/data\""
      ],
      "execution_count": 5,
      "outputs": [
        {
          "output_type": "stream",
          "text": [
            "html5doc.html\n"
          ],
          "name": "stdout"
        }
      ]
    },
    {
      "metadata": {
        "id": "Py5sJw-BGdNW",
        "colab_type": "code",
        "colab": {}
      },
      "cell_type": "code",
      "source": [
        "from bs4 import BeautifulSoup"
      ],
      "execution_count": 0,
      "outputs": []
    },
    {
      "metadata": {
        "id": "0YbTRvkhbWI5",
        "colab_type": "text"
      },
      "cell_type": "markdown",
      "source": [
        "### 파일 읽기"
      ]
    },
    {
      "metadata": {
        "id": "QiOGPbScHzmZ",
        "colab_type": "code",
        "colab": {
          "base_uri": "https://localhost:8080/",
          "height": 55
        },
        "outputId": "3b17fd05-fb89-422f-b6cd-974e91dc9fe1"
      },
      "cell_type": "code",
      "source": [
        "page = open(\"gdrive/My Drive/Colab Notebooks/data/html5doc.html\", encoding='utf-8').read()\n",
        "page"
      ],
      "execution_count": 35,
      "outputs": [
        {
          "output_type": "execute_result",
          "data": {
            "text/plain": [
              "'<!DOCTYPE html>\\n<html lang=\"ko\">\\n<head>\\n\\t<meta charset=\"utf-8\">\\n\\t<title>내가 처음 만드는 HTML 문서</title>\\n</head>\\n<body>\\n\\t<header>\\n\\t\\t<h1>애완견 종류</h1>\\n\\t\\t<nav>\\n\\t\\t\\t<ul>\\n\\t\\t\\t\\t<li><a href=\"http://python.org\">파이썬 배우기</a></li>\\n\\t\\t\\t\\t<li><a href=\"https://www.crummy.com/software/BeautifulSoup/bs4/doc/\">BeautifulSoup배우기</a></li>\\n\\t\\t\\t\\t<li><a href=\"https://pandas.pydata.org/\">padas</a></li>\\n\\t\\t\\t\\t<li><a href=\"https://pypi.org/project/folium/\">folium</a></li>\\n\\t\\t\\t</ul>\\n\\t\\t</nav>\\n\\t</header>\\n\\t<section>\\n\\t\\t<h2>활달한 강아지</h2>\\n\\t\\t<article>\\n\\t\\t\\t\\t<h3>요크셔테리어</h3>\\n\\t\\t\\t\\t<p id=\"first\" class=\"a\">생기있고 활달한 성질을 가지고 있으며 자신보다 몸집이 큰 개나 집에 들어온 침입자를 겁내는 일이 없어 좋은 번견이고 우리나라 최고의의 가정견으로 자리 잡고 있다.</p>\\n\\t\\t</article>\\n\\t\\t<article>\\n\\t\\t\\t\\t<h3>말티즈</h3>\\n\\t\\t\\t\\t<p class=\"b\">애정이 많고, 충실하며 활발한 성격을 소유하고있다. 이 종은 1급 가정견으로 요크셔테리어와 함께 우리나라 최고의 가정견으로 자리잡고 있다.</p>\\n\\t\\t</article>\\n\\t\\t<article>\\n\\t\\t\\n\\t\\t\\t\\t<h3>포메라이언</h3>\\n\\t\\t\\t\\t<p id=\"second\" class=\"a\">활기차고 명랑한 개로 유명하고, 걷는 모습이 우아하다.충실하고 우호적인 성격이 가장 먼저 거론된다.</p>\\n\\t\\t</article>\\n\\t\\t<article>\\n\\t\\t\\t\\t<h3>골든 리트리버</h3>\\n\\t\\t\\t\\t<p class=\"b\">이 견종은 충성심이 강하고 성격이 활달하여 어린아이나 여성이 상대하기에 적합한 견종이다.참을성 또한 강하여 현재는실내에서도 많이 길러지고 있다.</p>\\n\\t\\t</article>\\n\\t</section>\\n\\t<footer>\\n\\t\\t<p>published by funnycom</p>\\n\\t</footer>\\n</body>\\n</html>'"
            ]
          },
          "metadata": {
            "tags": []
          },
          "execution_count": 35
        }
      ]
    },
    {
      "metadata": {
        "id": "-hbNgFUTemxo",
        "colab_type": "text"
      },
      "cell_type": "markdown",
      "source": [
        "### beautiful object로  읽기"
      ]
    },
    {
      "metadata": {
        "id": "4fd9C5q-HzpU",
        "colab_type": "code",
        "colab": {
          "base_uri": "https://localhost:8080/",
          "height": 819
        },
        "outputId": "5204c840-e654-40b9-cc2b-c366036dcd33"
      },
      "cell_type": "code",
      "source": [
        "soup = BeautifulSoup(page, 'html.parser')\n",
        "soup"
      ],
      "execution_count": 18,
      "outputs": [
        {
          "output_type": "execute_result",
          "data": {
            "text/plain": [
              "<!DOCTYPE html>\n",
              "\n",
              "<html lang=\"ko\">\n",
              "<head>\n",
              "<meta charset=\"utf-8\"/>\n",
              "<title>내가 처음 만드는 HTML 문서</title>\n",
              "</head>\n",
              "<body>\n",
              "<header>\n",
              "<h1>애완견 종류</h1>\n",
              "<nav>\n",
              "<ul>\n",
              "<li><a href=\"http://python.org\">파이썬 배우기</a></li>\n",
              "<li><a href=\"https://www.crummy.com/software/BeautifulSoup/bs4/doc/\">BeautifulSoup배우기</a></li>\n",
              "<li><a href=\"https://pandas.pydata.org/\">padas</a></li>\n",
              "<li><a href=\"https://pypi.org/project/folium/\">folium</a></li>\n",
              "</ul>\n",
              "</nav>\n",
              "</header>\n",
              "<section>\n",
              "<h2>활달한 강아지</h2>\n",
              "<article>\n",
              "<h3>요크셔테리어</h3>\n",
              "<p class=\"a\" id=\"first\">생기있고 활달한 성질을 가지고 있으며 자신보다 몸집이 큰 개나 집에 들어온 침입자를 겁내는 일이 없어 좋은 번견이고 우리나라 최고의의 가정견으로 자리 잡고 있다.</p>\n",
              "</article>\n",
              "<article>\n",
              "<h3>말티즈</h3>\n",
              "<p class=\"b\">애정이 많고, 충실하며 활발한 성격을 소유하고있다. 이 종은 1급 가정견으로 요크셔테리어와 함께 우리나라 최고의 가정견으로 자리잡고 있다.</p>\n",
              "</article>\n",
              "<article>\n",
              "<h3>포메라이언</h3>\n",
              "<p class=\"a\" id=\"second\">활기차고 명랑한 개로 유명하고, 걷는 모습이 우아하다.충실하고 우호적인 성격이 가장 먼저 거론된다.</p>\n",
              "</article>\n",
              "<article>\n",
              "<h3>골든 리트리버</h3>\n",
              "<p class=\"b\">이 견종은 충성심이 강하고 성격이 활달하여 어린아이나 여성이 상대하기에 적합한 견종이다.참을성 또한 강하여 현재는실내에서도 많이 길러지고 있다.</p>\n",
              "</article>\n",
              "</section>\n",
              "<footer>\n",
              "<p>published by funnycom</p>\n",
              "</footer>\n",
              "</body>\n",
              "</html>"
            ]
          },
          "metadata": {
            "tags": []
          },
          "execution_count": 18
        }
      ]
    },
    {
      "metadata": {
        "id": "xJOwo6U1Hzvk",
        "colab_type": "code",
        "colab": {
          "base_uri": "https://localhost:8080/",
          "height": 35
        },
        "outputId": "a5419309-f9ec-4b8a-ccbc-1181c16fdd76"
      },
      "cell_type": "code",
      "source": [
        "type(soup)"
      ],
      "execution_count": 11,
      "outputs": [
        {
          "output_type": "execute_result",
          "data": {
            "text/plain": [
              "bs4.BeautifulSoup"
            ]
          },
          "metadata": {
            "tags": []
          },
          "execution_count": 11
        }
      ]
    },
    {
      "metadata": {
        "id": "PGnM0xKni9M8",
        "colab_type": "text"
      },
      "cell_type": "markdown",
      "source": [
        "### soup.tag이름 : tag로 object가져옴 \n",
        "### tag.body"
      ]
    },
    {
      "metadata": {
        "id": "bCQLJWMtHz41",
        "colab_type": "code",
        "colab": {
          "base_uri": "https://localhost:8080/",
          "height": 674
        },
        "outputId": "09c5b36c-452d-4d0d-cfdd-50ad0848ae84"
      },
      "cell_type": "code",
      "source": [
        "soup.body"
      ],
      "execution_count": 14,
      "outputs": [
        {
          "output_type": "execute_result",
          "data": {
            "text/plain": [
              "<body>\n",
              "<header>\n",
              "<h1>애완견 종류</h1>\n",
              "<nav>\n",
              "<ul>\n",
              "<li><a href=\"http://python.org\">파이썬 배우기</a></li>\n",
              "<li><a href=\"https://www.crummy.com/software/BeautifulSoup/bs4/doc/\">BeautifulSoup배우기</a></li>\n",
              "<li><a href=\"https://pandas.pydata.org/\">padas</a></li>\n",
              "<li><a href=\"https://pypi.org/project/folium/\">folium</a></li>\n",
              "</ul>\n",
              "</nav>\n",
              "</header>\n",
              "<section>\n",
              "<h2>활달한 강아지</h2>\n",
              "<article>\n",
              "<h3>요크셔테리어</h3>\n",
              "<p class=\"a\" id=\"first\">생기있고 활달한 성질을 가지고 있으며 자신보다 몸집이 큰 개나 집에 들어온 침입자를 겁내는 일이 없어 좋은 번견이고 우리나라 최고의의 가정견으로 자리 잡고 있다.</p>\n",
              "</article>\n",
              "<article>\n",
              "<h3>말티즈</h3>\n",
              "<p class=\"b\">애정이 많고, 충실하며 활발한 성격을 소유하고있다. 이 종은 1급 가정견으로 요크셔테리어와 함께 우리나라 최고의 가정견으로 자리잡고 있다.</p>\n",
              "</article>\n",
              "<article>\n",
              "<h3>포메라이언</h3>\n",
              "<p class=\"a\" id=\"second\">활기차고 명랑한 개로 유명하고, 걷는 모습이 우아하다.충실하고 우호적인 성격이 가장 먼저 거론된다.</p>\n",
              "</article>\n",
              "<article>\n",
              "<h3>골든 리트리버</h3>\n",
              "<p class=\"b\">이 견종은 충성심이 강하고 성격이 활달하여 어린아이나 여성이 상대하기에 적합한 견종이다.참을성 또한 강하여 현재는실내에서도 많이 길러지고 있다.</p>\n",
              "</article>\n",
              "</section>\n",
              "<footer>\n",
              "<p>published by funnycom</p>\n",
              "</footer>\n",
              "</body>"
            ]
          },
          "metadata": {
            "tags": []
          },
          "execution_count": 14
        }
      ]
    },
    {
      "metadata": {
        "id": "3a06YkI5zjrp",
        "colab_type": "text"
      },
      "cell_type": "markdown",
      "source": [
        "### soup.children \n",
        "하위 element를 다 가져옴. "
      ]
    },
    {
      "metadata": {
        "id": "iTCKk7eAHz1v",
        "colab_type": "code",
        "colab": {
          "base_uri": "https://localhost:8080/",
          "height": 35
        },
        "outputId": "6321379b-79fd-4c5e-b9ec-abbf9137e354"
      },
      "cell_type": "code",
      "source": [
        "soup.children"
      ],
      "execution_count": 13,
      "outputs": [
        {
          "output_type": "execute_result",
          "data": {
            "text/plain": [
              "<list_iterator at 0x7f90c7de7780>"
            ]
          },
          "metadata": {
            "tags": []
          },
          "execution_count": 13
        }
      ]
    },
    {
      "metadata": {
        "id": "7RuEMZIHHzys",
        "colab_type": "code",
        "colab": {
          "base_uri": "https://localhost:8080/",
          "height": 783
        },
        "outputId": "6c45bd05-0b83-41b7-a8c3-d7c16bf61563"
      },
      "cell_type": "code",
      "source": [
        "alist = list(soup.children)\n",
        "alist"
      ],
      "execution_count": 12,
      "outputs": [
        {
          "output_type": "execute_result",
          "data": {
            "text/plain": [
              "['html', '\\n', <html lang=\"ko\">\n",
              " <head>\n",
              " <meta charset=\"utf-8\"/>\n",
              " <title>내가 처음 만드는 HTML 문서</title>\n",
              " </head>\n",
              " <body>\n",
              " <header>\n",
              " <h1>애완견 종류</h1>\n",
              " <nav>\n",
              " <ul>\n",
              " <li><a href=\"http://python.org\">파이썬 배우기</a></li>\n",
              " <li><a href=\"https://www.crummy.com/software/BeautifulSoup/bs4/doc/\">BeautifulSoup배우기</a></li>\n",
              " <li><a href=\"https://pandas.pydata.org/\">padas</a></li>\n",
              " <li><a href=\"https://pypi.org/project/folium/\">folium</a></li>\n",
              " </ul>\n",
              " </nav>\n",
              " </header>\n",
              " <section>\n",
              " <h2>활달한 강아지</h2>\n",
              " <article>\n",
              " <h3>요크셔테리어</h3>\n",
              " <p class=\"a\" id=\"first\">생기있고 활달한 성질을 가지고 있으며 자신보다 몸집이 큰 개나 집에 들어온 침입자를 겁내는 일이 없어 좋은 번견이고 우리나라 최고의의 가정견으로 자리 잡고 있다.</p>\n",
              " </article>\n",
              " <article>\n",
              " <h3>말티즈</h3>\n",
              " <p class=\"b\">애정이 많고, 충실하며 활발한 성격을 소유하고있다. 이 종은 1급 가정견으로 요크셔테리어와 함께 우리나라 최고의 가정견으로 자리잡고 있다.</p>\n",
              " </article>\n",
              " <article>\n",
              " <h3>포메라이언</h3>\n",
              " <p class=\"a\" id=\"second\">활기차고 명랑한 개로 유명하고, 걷는 모습이 우아하다.충실하고 우호적인 성격이 가장 먼저 거론된다.</p>\n",
              " </article>\n",
              " <article>\n",
              " <h3>골든 리트리버</h3>\n",
              " <p class=\"b\">이 견종은 충성심이 강하고 성격이 활달하여 어린아이나 여성이 상대하기에 적합한 견종이다.참을성 또한 강하여 현재는실내에서도 많이 길러지고 있다.</p>\n",
              " </article>\n",
              " </section>\n",
              " <footer>\n",
              " <p>published by funnycom</p>\n",
              " </footer>\n",
              " </body>\n",
              " </html>]"
            ]
          },
          "metadata": {
            "tags": []
          },
          "execution_count": 12
        }
      ]
    },
    {
      "metadata": {
        "id": "NbB3Qt39H0PP",
        "colab_type": "code",
        "colab": {
          "base_uri": "https://localhost:8080/",
          "height": 90
        },
        "outputId": "e86e177d-65dd-4627-fee4-2f3e28041ad5"
      },
      "cell_type": "code",
      "source": [
        "soup.body.article.next_sibling.next_sibling #next를 두번 불러야 함. /n 이 있기 때문에 "
      ],
      "execution_count": 21,
      "outputs": [
        {
          "output_type": "execute_result",
          "data": {
            "text/plain": [
              "<article>\n",
              "<h3>말티즈</h3>\n",
              "<p class=\"b\">애정이 많고, 충실하며 활발한 성격을 소유하고있다. 이 종은 1급 가정견으로 요크셔테리어와 함께 우리나라 최고의 가정견으로 자리잡고 있다.</p>\n",
              "</article>"
            ]
          },
          "metadata": {
            "tags": []
          },
          "execution_count": 21
        }
      ]
    },
    {
      "metadata": {
        "id": "FIr7_OjVgpYF",
        "colab_type": "text"
      },
      "cell_type": "markdown",
      "source": [
        "##soup.find_all()\n",
        "### tag찾기 "
      ]
    },
    {
      "metadata": {
        "id": "15wkyvqzHz_H",
        "colab_type": "code",
        "colab": {
          "base_uri": "https://localhost:8080/",
          "height": 128
        },
        "outputId": "dee63c98-9066-481c-b02c-b47d9995540c"
      },
      "cell_type": "code",
      "source": [
        "soup.find_all('p')"
      ],
      "execution_count": 15,
      "outputs": [
        {
          "output_type": "execute_result",
          "data": {
            "text/plain": [
              "[<p class=\"a\" id=\"first\">생기있고 활달한 성질을 가지고 있으며 자신보다 몸집이 큰 개나 집에 들어온 침입자를 겁내는 일이 없어 좋은 번견이고 우리나라 최고의의 가정견으로 자리 잡고 있다.</p>,\n",
              " <p class=\"b\">애정이 많고, 충실하며 활발한 성격을 소유하고있다. 이 종은 1급 가정견으로 요크셔테리어와 함께 우리나라 최고의 가정견으로 자리잡고 있다.</p>,\n",
              " <p class=\"a\" id=\"second\">활기차고 명랑한 개로 유명하고, 걷는 모습이 우아하다.충실하고 우호적인 성격이 가장 먼저 거론된다.</p>,\n",
              " <p class=\"b\">이 견종은 충성심이 강하고 성격이 활달하여 어린아이나 여성이 상대하기에 적합한 견종이다.참을성 또한 강하여 현재는실내에서도 많이 길러지고 있다.</p>,\n",
              " <p>published by funnycom</p>]"
            ]
          },
          "metadata": {
            "tags": []
          },
          "execution_count": 15
        }
      ]
    },
    {
      "metadata": {
        "id": "Heffk8vPH0Bw",
        "colab_type": "text"
      },
      "cell_type": "markdown",
      "source": [
        "### tag 와 class로 찾기"
      ]
    },
    {
      "metadata": {
        "id": "T3chsNY8g-89",
        "colab_type": "text"
      },
      "cell_type": "markdown",
      "source": [
        "soup.find_all('p', class_='a')"
      ]
    },
    {
      "metadata": {
        "id": "NXgYoF77H0Ew",
        "colab_type": "code",
        "colab": {
          "base_uri": "https://localhost:8080/",
          "height": 74
        },
        "outputId": "25f009df-93f7-4cb5-f1eb-1a2af28d97ea"
      },
      "cell_type": "code",
      "source": [
        "soup.find_all('p', class_='a')"
      ],
      "execution_count": 16,
      "outputs": [
        {
          "output_type": "execute_result",
          "data": {
            "text/plain": [
              "[<p class=\"a\" id=\"first\">생기있고 활달한 성질을 가지고 있으며 자신보다 몸집이 큰 개나 집에 들어온 침입자를 겁내는 일이 없어 좋은 번견이고 우리나라 최고의의 가정견으로 자리 잡고 있다.</p>,\n",
              " <p class=\"a\" id=\"second\">활기차고 명랑한 개로 유명하고, 걷는 모습이 우아하다.충실하고 우호적인 성격이 가장 먼저 거론된다.</p>]"
            ]
          },
          "metadata": {
            "tags": []
          },
          "execution_count": 16
        }
      ]
    },
    {
      "metadata": {
        "id": "SgMEC_890jRv",
        "colab_type": "text"
      },
      "cell_type": "markdown",
      "source": [
        " tag와 class한번에 부르기"
      ]
    },
    {
      "metadata": {
        "id": "L7zzxaYLyLz0",
        "colab_type": "code",
        "colab": {
          "base_uri": "https://localhost:8080/",
          "height": 74
        },
        "outputId": "0534a2fb-824c-4a3a-db89-3dfb65c52aa8"
      },
      "cell_type": "code",
      "source": [
        "soup.find_all('p', 'a')"
      ],
      "execution_count": 36,
      "outputs": [
        {
          "output_type": "execute_result",
          "data": {
            "text/plain": [
              "[<p class=\"a\" id=\"first\">생기있고 활달한 성질을 가지고 있으며 자신보다 몸집이 큰 개나 집에 들어온 침입자를 겁내는 일이 없어 좋은 번견이고 우리나라 최고의의 가정견으로 자리 잡고 있다.</p>,\n",
              " <p class=\"a\" id=\"second\">활기차고 명랑한 개로 유명하고, 걷는 모습이 우아하다.충실하고 우호적인 성격이 가장 먼저 거론된다.</p>]"
            ]
          },
          "metadata": {
            "tags": []
          },
          "execution_count": 36
        }
      ]
    },
    {
      "metadata": {
        "id": "z5L3lMB7incy",
        "colab_type": "text"
      },
      "cell_type": "markdown",
      "source": [
        "### tag, class, id로 찾기"
      ]
    },
    {
      "metadata": {
        "id": "ucOX9045H0HE",
        "colab_type": "code",
        "colab": {
          "base_uri": "https://localhost:8080/",
          "height": 55
        },
        "outputId": "9cb07c38-78f4-40dc-b313-a09c4f6dc47e"
      },
      "cell_type": "code",
      "source": [
        "soup.find_all('p', class_='a', id='first')"
      ],
      "execution_count": 17,
      "outputs": [
        {
          "output_type": "execute_result",
          "data": {
            "text/plain": [
              "[<p class=\"a\" id=\"first\">생기있고 활달한 성질을 가지고 있으며 자신보다 몸집이 큰 개나 집에 들어온 침입자를 겁내는 일이 없어 좋은 번견이고 우리나라 최고의의 가정견으로 자리 잡고 있다.</p>]"
            ]
          },
          "metadata": {
            "tags": []
          },
          "execution_count": 17
        }
      ]
    },
    {
      "metadata": {
        "id": "wrNQnVa8l1uS",
        "colab_type": "text"
      },
      "cell_type": "markdown",
      "source": [
        "### tag의 text 추출하기\n",
        "tag.text, tag.get_text(), tag.string\n"
      ]
    },
    {
      "metadata": {
        "id": "rCzYVmp6lBkW",
        "colab_type": "code",
        "colab": {
          "base_uri": "https://localhost:8080/",
          "height": 146
        },
        "outputId": "3a9fbcf8-069b-418b-ab21-9c5ad58fbd55"
      },
      "cell_type": "code",
      "source": [
        "for tag in soup.find_all('p')[:2]:\n",
        "    print (tag.name, tag)\n",
        "    print(tag.text) # tag.get_text() 또는 tag.string\n",
        "    print('-'*30)"
      ],
      "execution_count": 32,
      "outputs": [
        {
          "output_type": "stream",
          "text": [
            "p <p class=\"a\" id=\"first\">생기있고 활달한 성질을 가지고 있으며 자신보다 몸집이 큰 개나 집에 들어온 침입자를 겁내는 일이 없어 좋은 번견이고 우리나라 최고의의 가정견으로 자리 잡고 있다.</p>\n",
            "생기있고 활달한 성질을 가지고 있으며 자신보다 몸집이 큰 개나 집에 들어온 침입자를 겁내는 일이 없어 좋은 번견이고 우리나라 최고의의 가정견으로 자리 잡고 있다.\n",
            "------------------------------\n",
            "p <p class=\"b\">애정이 많고, 충실하며 활발한 성격을 소유하고있다. 이 종은 1급 가정견으로 요크셔테리어와 함께 우리나라 최고의 가정견으로 자리잡고 있다.</p>\n",
            "애정이 많고, 충실하며 활발한 성격을 소유하고있다. 이 종은 1급 가정견으로 요크셔테리어와 함께 우리나라 최고의 가정견으로 자리잡고 있다.\n",
            "------------------------------\n"
          ],
          "name": "stdout"
        }
      ]
    },
    {
      "metadata": {
        "id": "bFRTwnqflBNS",
        "colab_type": "text"
      },
      "cell_type": "markdown",
      "source": [
        "### tag의 속성 추출하기\n",
        "tag['attrib']"
      ]
    },
    {
      "metadata": {
        "id": "sSCmE0KslBCg",
        "colab_type": "code",
        "colab": {
          "base_uri": "https://localhost:8080/",
          "height": 199
        },
        "outputId": "e7fda052-4859-48f9-8fe5-4e19309a6324"
      },
      "cell_type": "code",
      "source": [
        "for tag in soup.find_all('a')[:2]:\n",
        "    \n",
        "    print(tag)\n",
        "    print (tag.name, type(tag))\n",
        "    print(tag.text) # print(aa.get_text()) 또는 aa.string\n",
        "    print(tag['href'])\n",
        "    print('-'*30)"
      ],
      "execution_count": 31,
      "outputs": [
        {
          "output_type": "stream",
          "text": [
            "<a href=\"http://python.org\">파이썬 배우기</a>\n",
            "a <class 'bs4.element.Tag'>\n",
            "파이썬 배우기\n",
            "http://python.org\n",
            "------------------------------\n",
            "<a href=\"https://www.crummy.com/software/BeautifulSoup/bs4/doc/\">BeautifulSoup배우기</a>\n",
            "a <class 'bs4.element.Tag'>\n",
            "BeautifulSoup배우기\n",
            "https://www.crummy.com/software/BeautifulSoup/bs4/doc/\n",
            "------------------------------\n"
          ],
          "name": "stdout"
        }
      ]
    },
    {
      "metadata": {
        "id": "yDKKbd8wyNJH",
        "colab_type": "code",
        "colab": {}
      },
      "cell_type": "code",
      "source": [
        ""
      ],
      "execution_count": 0,
      "outputs": []
    },
    {
      "metadata": {
        "id": "ZT7ERfC3lAqY",
        "colab_type": "text"
      },
      "cell_type": "markdown",
      "source": [
        "### soup.select () : selector로 tag추출하기\n",
        "soup.select('tag[attirb]')\n"
      ]
    },
    {
      "metadata": {
        "id": "XHSIulJ1lAcg",
        "colab_type": "code",
        "colab": {
          "base_uri": "https://localhost:8080/",
          "height": 90
        },
        "outputId": "914302ee-f10b-4349-f0d1-0992a41411c1"
      },
      "cell_type": "code",
      "source": [
        "soup.select('a[href]')"
      ],
      "execution_count": 34,
      "outputs": [
        {
          "output_type": "execute_result",
          "data": {
            "text/plain": [
              "[<a href=\"http://python.org\">파이썬 배우기</a>,\n",
              " <a href=\"https://www.crummy.com/software/BeautifulSoup/bs4/doc/\">BeautifulSoup배우기</a>,\n",
              " <a href=\"https://pandas.pydata.org/\">padas</a>,\n",
              " <a href=\"https://pypi.org/project/folium/\">folium</a>]"
            ]
          },
          "metadata": {
            "tags": []
          },
          "execution_count": 34
        }
      ]
    },
    {
      "metadata": {
        "id": "ALvcWaY-lALN",
        "colab_type": "code",
        "colab": {}
      },
      "cell_type": "code",
      "source": [
        ""
      ],
      "execution_count": 0,
      "outputs": []
    },
    {
      "metadata": {
        "id": "CmX-TtBqHz8A",
        "colab_type": "code",
        "colab": {}
      },
      "cell_type": "code",
      "source": [
        ""
      ],
      "execution_count": 0,
      "outputs": []
    },
    {
      "metadata": {
        "id": "2tNue0cemFbo",
        "colab_type": "code",
        "colab": {}
      },
      "cell_type": "code",
      "source": [
        ""
      ],
      "execution_count": 0,
      "outputs": []
    },
    {
      "metadata": {
        "id": "JPGy0daqmFk-",
        "colab_type": "code",
        "colab": {}
      },
      "cell_type": "code",
      "source": [
        ""
      ],
      "execution_count": 0,
      "outputs": []
    },
    {
      "metadata": {
        "id": "I1cAPEcsmFoo",
        "colab_type": "code",
        "colab": {}
      },
      "cell_type": "code",
      "source": [
        ""
      ],
      "execution_count": 0,
      "outputs": []
    },
    {
      "metadata": {
        "id": "hqgFMF2XmFsc",
        "colab_type": "code",
        "colab": {}
      },
      "cell_type": "code",
      "source": [
        ""
      ],
      "execution_count": 0,
      "outputs": []
    },
    {
      "metadata": {
        "id": "dz1VZo8HmFvk",
        "colab_type": "code",
        "colab": {}
      },
      "cell_type": "code",
      "source": [
        ""
      ],
      "execution_count": 0,
      "outputs": []
    },
    {
      "metadata": {
        "id": "6v4tv9SgmFyw",
        "colab_type": "code",
        "colab": {}
      },
      "cell_type": "code",
      "source": [
        ""
      ],
      "execution_count": 0,
      "outputs": []
    },
    {
      "metadata": {
        "id": "p4hmLVrLmF1l",
        "colab_type": "code",
        "colab": {}
      },
      "cell_type": "code",
      "source": [
        ""
      ],
      "execution_count": 0,
      "outputs": []
    },
    {
      "metadata": {
        "id": "2BPRWgkmmF4d",
        "colab_type": "code",
        "colab": {}
      },
      "cell_type": "code",
      "source": [
        ""
      ],
      "execution_count": 0,
      "outputs": []
    },
    {
      "metadata": {
        "id": "T2uQEHCBmF7r",
        "colab_type": "code",
        "colab": {}
      },
      "cell_type": "code",
      "source": [
        ""
      ],
      "execution_count": 0,
      "outputs": []
    },
    {
      "metadata": {
        "id": "Ua0_n0OmmF-X",
        "colab_type": "code",
        "colab": {}
      },
      "cell_type": "code",
      "source": [
        ""
      ],
      "execution_count": 0,
      "outputs": []
    },
    {
      "metadata": {
        "id": "XuOwwsgnmGB6",
        "colab_type": "code",
        "colab": {}
      },
      "cell_type": "code",
      "source": [
        ""
      ],
      "execution_count": 0,
      "outputs": []
    }
  ]
}